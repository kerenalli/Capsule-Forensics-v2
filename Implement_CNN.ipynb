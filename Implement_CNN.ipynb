{
  "nbformat": 4,
  "nbformat_minor": 0,
  "metadata": {
    "colab": {
      "name": "Implement_CNN.ipynb",
      "provenance": [],
      "authorship_tag": "ABX9TyONGvBwSHfvWyyAovOndVrR",
      "include_colab_link": true
    },
    "kernelspec": {
      "name": "python3",
      "display_name": "Python 3"
    },
    "accelerator": "TPU"
  },
  "cells": [
    {
      "cell_type": "markdown",
      "metadata": {
        "id": "view-in-github",
        "colab_type": "text"
      },
      "source": [
        "<a href=\"https://colab.research.google.com/github/kerenalli/Capsule-Forensics-v2/blob/master/Implement_CNN.ipynb\" target=\"_parent\"><img src=\"https://colab.research.google.com/assets/colab-badge.svg\" alt=\"Open In Colab\"/></a>"
      ]
    },
    {
      "cell_type": "code",
      "metadata": {
        "id": "ckUGLWpHiRxI",
        "colab": {
          "base_uri": "https://localhost:8080/"
        },
        "outputId": "b623e69a-f7b9-4142-cc68-00fa0fc57234"
      },
      "source": [
        "from keras.datasets import fashion_mnist\r\n",
        "(train_X,train_Y), (test_X,test_Y) = fashion_mnist.load_data()\r\n"
      ],
      "execution_count": 3,
      "outputs": [
        {
          "output_type": "stream",
          "text": [
            "Downloading data from https://storage.googleapis.com/tensorflow/tf-keras-datasets/train-labels-idx1-ubyte.gz\n",
            "32768/29515 [=================================] - 0s 0us/step\n",
            "Downloading data from https://storage.googleapis.com/tensorflow/tf-keras-datasets/train-images-idx3-ubyte.gz\n",
            "26427392/26421880 [==============================] - 0s 0us/step\n",
            "Downloading data from https://storage.googleapis.com/tensorflow/tf-keras-datasets/t10k-labels-idx1-ubyte.gz\n",
            "8192/5148 [===============================================] - 0s 0us/step\n",
            "Downloading data from https://storage.googleapis.com/tensorflow/tf-keras-datasets/t10k-images-idx3-ubyte.gz\n",
            "4423680/4422102 [==============================] - 0s 0us/step\n"
          ],
          "name": "stdout"
        }
      ]
    },
    {
      "cell_type": "code",
      "metadata": {
        "colab": {
          "base_uri": "https://localhost:8080/"
        },
        "id": "rxdHQqWi_lgO",
        "outputId": "507ba3af-1b2a-408c-b1a7-205026121a52"
      },
      "source": [
        "import numpy as np\r\n",
        "from keras.utils import to_categorical\r\n",
        "import matplotlib.pyplot as plt\r\n",
        "%matplotlib inline\r\n",
        "\r\n",
        "print('Training data shape : ', train_X.shape, train_Y.shape)\r\n",
        "\r\n",
        "print('Testing data shape : ', test_X.shape, test_Y.shape)"
      ],
      "execution_count": 4,
      "outputs": [
        {
          "output_type": "stream",
          "text": [
            "Training data shape :  (60000, 28, 28) (60000,)\n",
            "Testing data shape :  (10000, 28, 28) (10000,)\n"
          ],
          "name": "stdout"
        }
      ]
    },
    {
      "cell_type": "code",
      "metadata": {
        "colab": {
          "base_uri": "https://localhost:8080/"
        },
        "id": "nQfbQxJ0_3M-",
        "outputId": "dc7abbbd-94f7-4f58-e476-aeb76db3b3a4"
      },
      "source": [
        "# Find the unique numbers from the train labels\r\n",
        "classes = np.unique(train_Y)\r\n",
        "nClasses = len(classes)\r\n",
        "print('Total number of outputs : ', nClasses)\r\n",
        "print('Output classes : ', classes)"
      ],
      "execution_count": 5,
      "outputs": [
        {
          "output_type": "stream",
          "text": [
            "Total number of outputs :  10\n",
            "Output classes :  [0 1 2 3 4 5 6 7 8 9]\n"
          ],
          "name": "stdout"
        }
      ]
    },
    {
      "cell_type": "code",
      "metadata": {
        "colab": {
          "base_uri": "https://localhost:8080/",
          "height": 208
        },
        "id": "YcNGggsZ_96e",
        "outputId": "1af8653c-304c-4016-c68f-78bfe213b69e"
      },
      "source": [
        "plt.figure(figsize=[5,5])\r\n",
        "\r\n",
        "# Display the first image in training data\r\n",
        "plt.subplot(121)\r\n",
        "plt.imshow(train_X[0,:,:], cmap='gray')\r\n",
        "plt.title(\"Ground Truth : {}\".format(train_Y[0]))\r\n",
        "\r\n",
        "# Display the first image in testing data\r\n",
        "plt.subplot(122)\r\n",
        "plt.imshow(test_X[0,:,:], cmap='gray')\r\n",
        "plt.title(\"Ground Truth : {}\".format(test_Y[0]))"
      ],
      "execution_count": 6,
      "outputs": [
        {
          "output_type": "execute_result",
          "data": {
            "text/plain": [
              "Text(0.5, 1.0, 'Ground Truth : 9')"
            ]
          },
          "metadata": {
            "tags": []
          },
          "execution_count": 6
        },
        {
          "output_type": "display_data",
          "data": {
            "image/png": "[encoded data removed]",
            "text/plain": [
              "<Figure size 360x360 with 2 Axes>"
            ]
          },
          "metadata": {
            "tags": [],
            "needs_background": "light"
          }
        }
      ]
    },
    {
      "cell_type": "code",
      "metadata": {
        "colab": {
          "base_uri": "https://localhost:8080/"
        },
        "id": "Io6imMjeAD3G",
        "outputId": "05cc2186-ac08-4f54-f334-e0b557768542"
      },
      "source": [
        "train_X = train_X.reshape(-1, 28,28, 1)\r\n",
        "test_X = test_X.reshape(-1, 28,28, 1)\r\n",
        "train_X.shape, test_X.shape"
      ],
      "execution_count": 7,
      "outputs": [
        {
          "output_type": "execute_result",
          "data": {
            "text/plain": [
              "((60000, 28, 28, 1), (10000, 28, 28, 1))"
            ]
          },
          "metadata": {
            "tags": []
          },
          "execution_count": 7
        }
      ]
    },
    {
      "cell_type": "code",
      "metadata": {
        "id": "sUUd2cklAHmH"
      },
      "source": [
        "train_X = train_X.astype('float32')\r\n",
        "test_X = test_X.astype('float32')\r\n",
        "train_X = train_X / 255.\r\n",
        "test_X = test_X / 255."
      ],
      "execution_count": 8,
      "outputs": []
    },
    {
      "cell_type": "code",
      "metadata": {
        "colab": {
          "base_uri": "https://localhost:8080/"
        },
        "id": "WcQQ6O7AALXW",
        "outputId": "bbfdfa03-2add-4f72-acdb-81fcef7bd9ab"
      },
      "source": [
        "# Change the labels from categorical to one-hot encoding\r\n",
        "train_Y_one_hot = to_categorical(train_Y)\r\n",
        "test_Y_one_hot = to_categorical(test_Y)\r\n",
        "\r\n",
        "# Display the change for category label using one-hot encoding\r\n",
        "print('Original label:', train_Y[0])\r\n",
        "print('After conversion to one-hot:', train_Y_one_hot[0])"
      ],
      "execution_count": 9,
      "outputs": [
        {
          "output_type": "stream",
          "text": [
            "Original label: 9\n",
            "After conversion to one-hot: [0. 0. 0. 0. 0. 0. 0. 0. 0. 1.]\n"
          ],
          "name": "stdout"
        }
      ]
    },
    {
      "cell_type": "code",
      "metadata": {
        "id": "zOx2Z-uwAW2I"
      },
      "source": [
        "from sklearn.model_selection import train_test_split\r\n",
        "train_X,valid_X,train_label,valid_label = train_test_split(train_X, train_Y_one_hot, test_size=0.2, random_state=13)"
      ],
      "execution_count": 10,
      "outputs": []
    },
    {
      "cell_type": "code",
      "metadata": {
        "colab": {
          "base_uri": "https://localhost:8080/"
        },
        "id": "OPf-8u9yAavf",
        "outputId": "4ff44744-72a3-4eeb-fa1a-fe697dc62cf5"
      },
      "source": [
        "train_X.shape,valid_X.shape,train_label.shape,valid_label.shape"
      ],
      "execution_count": 11,
      "outputs": [
        {
          "output_type": "execute_result",
          "data": {
            "text/plain": [
              "((48000, 28, 28, 1), (12000, 28, 28, 1), (48000, 10), (12000, 10))"
            ]
          },
          "metadata": {
            "tags": []
          },
          "execution_count": 11
        }
      ]
    },
    {
      "cell_type": "code",
      "metadata": {
        "id": "44Ongw3IAfOO"
      },
      "source": [
        "import keras\r\n",
        "from keras.models import Sequential,Input,Model\r\n",
        "from keras.layers import Dense, Dropout, Flatten\r\n",
        "from keras.layers import Conv2D, MaxPooling2D\r\n",
        "from keras.layers.normalization import BatchNormalization\r\n",
        "from keras.layers.advanced_activations import LeakyReLU"
      ],
      "execution_count": 12,
      "outputs": []
    },
    {
      "cell_type": "code",
      "metadata": {
        "id": "b2bo4iTHAizI"
      },
      "source": [
        "batch_size = 64\r\n",
        "epochs = 8\r\n",
        "num_classes = 10"
      ],
      "execution_count": 13,
      "outputs": []
    },
    {
      "cell_type": "code",
      "metadata": {
        "id": "A5yqDwMhAm8X"
      },
      "source": [
        "fashion_model = Sequential()\r\n",
        "fashion_model.add(Conv2D(32, kernel_size=(3, 3),activation='linear',input_shape=(28,28,1),padding='same'))\r\n",
        "fashion_model.add(LeakyReLU(alpha=0.1))\r\n",
        "fashion_model.add(MaxPooling2D((2, 2),padding='same'))\r\n",
        "fashion_model.add(Conv2D(64, (3, 3), activation='linear',padding='same'))\r\n",
        "fashion_model.add(LeakyReLU(alpha=0.1))\r\n",
        "fashion_model.add(MaxPooling2D(pool_size=(2, 2),padding='same'))\r\n",
        "fashion_model.add(Conv2D(128, (3, 3), activation='linear',padding='same'))\r\n",
        "fashion_model.add(LeakyReLU(alpha=0.1))                  \r\n",
        "fashion_model.add(MaxPooling2D(pool_size=(2, 2),padding='same'))\r\n",
        "fashion_model.add(Flatten())\r\n",
        "fashion_model.add(Dense(128, activation='linear'))\r\n",
        "fashion_model.add(LeakyReLU(alpha=0.1))                  \r\n",
        "fashion_model.add(Dense(num_classes, activation='softmax'))"
      ],
      "execution_count": 14,
      "outputs": []
    },
    {
      "cell_type": "code",
      "metadata": {
        "id": "0veqOwIhAosP"
      },
      "source": [
        "fashion_model.compile(loss=keras.losses.categorical_crossentropy, optimizer=keras.optimizers.Adam(),metrics=['accuracy'])"
      ],
      "execution_count": 15,
      "outputs": []
    },
    {
      "cell_type": "code",
      "metadata": {
        "colab": {
          "base_uri": "https://localhost:8080/"
        },
        "id": "9oDpaSXaAugP",
        "outputId": "ff68861f-c342-4577-e59f-56ee411cbb89"
      },
      "source": [
        "fashion_model.summary()"
      ],
      "execution_count": 16,
      "outputs": [
        {
          "output_type": "stream",
          "text": [
            "Model: \"sequential\"\n",
            "_________________________________________________________________\n",
            "Layer (type)                 Output Shape              Param #   \n",
            "=================================================================\n",
            "conv2d (Conv2D)              (None, 28, 28, 32)        320       \n",
            "_________________________________________________________________\n",
            "leaky_re_lu (LeakyReLU)      (None, 28, 28, 32)        0         \n",
            "_________________________________________________________________\n",
            "max_pooling2d (MaxPooling2D) (None, 14, 14, 32)        0         \n",
            "_________________________________________________________________\n",
            "conv2d_1 (Conv2D)            (None, 14, 14, 64)        18496     \n",
            "_________________________________________________________________\n",
            "leaky_re_lu_1 (LeakyReLU)    (None, 14, 14, 64)        0         \n",
            "_________________________________________________________________\n",
            "max_pooling2d_1 (MaxPooling2 (None, 7, 7, 64)          0         \n",
            "_________________________________________________________________\n",
            "conv2d_2 (Conv2D)            (None, 7, 7, 128)         73856     \n",
            "_________________________________________________________________\n",
            "leaky_re_lu_2 (LeakyReLU)    (None, 7, 7, 128)         0         \n",
            "_________________________________________________________________\n",
            "max_pooling2d_2 (MaxPooling2 (None, 4, 4, 128)         0         \n",
            "_________________________________________________________________\n",
            "flatten (Flatten)            (None, 2048)              0         \n",
            "_________________________________________________________________\n",
            "dense (Dense)                (None, 128)               262272    \n",
            "_________________________________________________________________\n",
            "leaky_re_lu_3 (LeakyReLU)    (None, 128)               0         \n",
            "_________________________________________________________________\n",
            "dense_1 (Dense)              (None, 10)                1290      \n",
            "=================================================================\n",
            "Total params: 356,234\n",
            "Trainable params: 356,234\n",
            "Non-trainable params: 0\n",
            "_________________________________________________________________\n"
          ],
          "name": "stdout"
        }
      ]
    },
    {
      "cell_type": "code",
      "metadata": {
        "colab": {
          "base_uri": "https://localhost:8080/"
        },
        "id": "QnaCuU2pAyyW",
        "outputId": "612549ae-0aac-4078-e141-fa0f489f9e7b"
      },
      "source": [
        "fashion_train = fashion_model.fit(train_X, train_label, batch_size=batch_size,epochs=epochs,verbose=1,validation_data=(valid_X, valid_label))"
      ],
      "execution_count": 17,
      "outputs": [
        {
          "output_type": "stream",
          "text": [
            "Epoch 1/8\n",
            "750/750 [==============================] - 78s 103ms/step - loss: 0.6715 - accuracy: 0.7562 - val_loss: 0.3259 - val_accuracy: 0.8826\n",
            "Epoch 2/8\n",
            "750/750 [==============================] - 78s 103ms/step - loss: 0.3011 - accuracy: 0.8897 - val_loss: 0.2823 - val_accuracy: 0.8964\n",
            "Epoch 3/8\n",
            "750/750 [==============================] - 77s 103ms/step - loss: 0.2459 - accuracy: 0.9079 - val_loss: 0.2660 - val_accuracy: 0.9026\n",
            "Epoch 4/8\n",
            "750/750 [==============================] - 77s 103ms/step - loss: 0.2119 - accuracy: 0.9208 - val_loss: 0.2571 - val_accuracy: 0.9077\n",
            "Epoch 5/8\n",
            "750/750 [==============================] - 78s 104ms/step - loss: 0.1809 - accuracy: 0.9328 - val_loss: 0.2262 - val_accuracy: 0.9204\n",
            "Epoch 6/8\n",
            "750/750 [==============================] - 78s 104ms/step - loss: 0.1568 - accuracy: 0.9405 - val_loss: 0.2480 - val_accuracy: 0.9157\n",
            "Epoch 7/8\n",
            "750/750 [==============================] - 79s 105ms/step - loss: 0.1347 - accuracy: 0.9483 - val_loss: 0.2551 - val_accuracy: 0.9119\n",
            "Epoch 8/8\n",
            "750/750 [==============================] - 79s 105ms/step - loss: 0.1183 - accuracy: 0.9556 - val_loss: 0.2338 - val_accuracy: 0.9240\n"
          ],
          "name": "stdout"
        }
      ]
    },
    {
      "cell_type": "code",
      "metadata": {
        "id": "hozH7-X_G-Iz"
      },
      "source": [
        "test_eval = fashion_model.evaluate(test_X, test_Y_one_hot, verbose=0)"
      ],
      "execution_count": 18,
      "outputs": []
    },
    {
      "cell_type": "code",
      "metadata": {
        "colab": {
          "base_uri": "https://localhost:8080/"
        },
        "id": "RoUAR1pZHEBZ",
        "outputId": "96797e75-4801-4de6-e971-e65f5b010fc8"
      },
      "source": [
        "print('Test loss:', test_eval[0])\r\n",
        "print('Test accuracy:', test_eval[1])"
      ],
      "execution_count": 19,
      "outputs": [
        {
          "output_type": "stream",
          "text": [
            "Test loss: 0.24700431525707245\n",
            "Test accuracy: 0.917900025844574\n"
          ],
          "name": "stdout"
        }
      ]
    },
    {
      "cell_type": "code",
      "metadata": {
        "colab": {
          "base_uri": "https://localhost:8080/",
          "height": 545
        },
        "id": "t2vgSejMHHkI",
        "outputId": "73ef8f02-bb78-4c05-c8ab-97833b236eda"
      },
      "source": [
        "accuracy = fashion_train.history['accuracy']\r\n",
        "val_accuracy = fashion_train.history['val_accuracy']\r\n",
        "loss = fashion_train.history['loss']\r\n",
        "val_loss = fashion_train.history['val_loss']\r\n",
        "epochs = range(len(accuracy))\r\n",
        "plt.plot(epochs, accuracy, 'bo', label='Training accuracy')\r\n",
        "plt.plot(epochs, val_accuracy, 'b', label='Validation accuracy')\r\n",
        "plt.title('Training and validation accuracy')\r\n",
        "plt.legend()\r\n",
        "plt.figure()\r\n",
        "plt.plot(epochs, loss, 'bo', label='Training loss')\r\n",
        "plt.plot(epochs, val_loss, 'b', label='Validation loss')\r\n",
        "plt.title('Training and validation loss')\r\n",
        "plt.legend()\r\n",
        "plt.show()"
      ],
      "execution_count": 20,
      "outputs": [
        {
          "output_type": "display_data",
          "data": {
            "image/png": "[encoded data removed]",
            "text/plain": [
              "<Figure size 432x288 with 1 Axes>"
            ]
          },
          "metadata": {
            "tags": [],
            "needs_background": "light"
          }
        },
        {
          "output_type": "display_data",
          "data": {
            "image/png": "[encoded data removed]",
            "text/plain": [
              "<Figure size 432x288 with 1 Axes>"
            ]
          },
          "metadata": {
            "tags": [],
            "needs_background": "light"
          }
        }
      ]
    },
    {
      "cell_type": "code",
      "metadata": {
        "id": "xKwFeKoDJmiC"
      },
      "source": [
        "batch_size = 64\r\n",
        "epochs = 8\r\n",
        "num_classes = 10"
      ],
      "execution_count": 21,
      "outputs": []
    },
    {
      "cell_type": "code",
      "metadata": {
        "id": "bcCyVOERJr6a"
      },
      "source": [
        "fashion_model = Sequential()\r\n",
        "fashion_model.add(Conv2D(32, kernel_size=(3, 3),activation='linear',padding='same',input_shape=(28,28,1)))\r\n",
        "fashion_model.add(LeakyReLU(alpha=0.1))\r\n",
        "fashion_model.add(MaxPooling2D((2, 2),padding='same'))\r\n",
        "fashion_model.add(Dropout(0.25))\r\n",
        "fashion_model.add(Conv2D(64, (3, 3), activation='linear',padding='same'))\r\n",
        "fashion_model.add(LeakyReLU(alpha=0.1))\r\n",
        "fashion_model.add(MaxPooling2D(pool_size=(2, 2),padding='same'))\r\n",
        "fashion_model.add(Dropout(0.25))\r\n",
        "fashion_model.add(Conv2D(128, (3, 3), activation='linear',padding='same'))\r\n",
        "fashion_model.add(LeakyReLU(alpha=0.1))                  \r\n",
        "fashion_model.add(MaxPooling2D(pool_size=(2, 2),padding='same'))\r\n",
        "fashion_model.add(Dropout(0.4))\r\n",
        "fashion_model.add(Flatten())\r\n",
        "fashion_model.add(Dense(128, activation='linear'))\r\n",
        "fashion_model.add(LeakyReLU(alpha=0.1))           \r\n",
        "fashion_model.add(Dropout(0.3))\r\n",
        "fashion_model.add(Dense(num_classes, activation='softmax'))"
      ],
      "execution_count": 22,
      "outputs": []
    },
    {
      "cell_type": "code",
      "metadata": {
        "colab": {
          "base_uri": "https://localhost:8080/"
        },
        "id": "IwtMDWUUJu_1",
        "outputId": "3a0d8687-a966-4662-90c2-6cf23617cc9d"
      },
      "source": [
        "fashion_model.summary()"
      ],
      "execution_count": 23,
      "outputs": [
        {
          "output_type": "stream",
          "text": [
            "Model: \"sequential_1\"\n",
            "_________________________________________________________________\n",
            "Layer (type)                 Output Shape              Param #   \n",
            "=================================================================\n",
            "conv2d_3 (Conv2D)            (None, 28, 28, 32)        320       \n",
            "_________________________________________________________________\n",
            "leaky_re_lu_4 (LeakyReLU)    (None, 28, 28, 32)        0         \n",
            "_________________________________________________________________\n",
            "max_pooling2d_3 (MaxPooling2 (None, 14, 14, 32)        0         \n",
            "_________________________________________________________________\n",
            "dropout (Dropout)            (None, 14, 14, 32)        0         \n",
            "_________________________________________________________________\n",
            "conv2d_4 (Conv2D)            (None, 14, 14, 64)        18496     \n",
            "_________________________________________________________________\n",
            "leaky_re_lu_5 (LeakyReLU)    (None, 14, 14, 64)        0         \n",
            "_________________________________________________________________\n",
            "max_pooling2d_4 (MaxPooling2 (None, 7, 7, 64)          0         \n",
            "_________________________________________________________________\n",
            "dropout_1 (Dropout)          (None, 7, 7, 64)          0         \n",
            "_________________________________________________________________\n",
            "conv2d_5 (Conv2D)            (None, 7, 7, 128)         73856     \n",
            "_________________________________________________________________\n",
            "leaky_re_lu_6 (LeakyReLU)    (None, 7, 7, 128)         0         \n",
            "_________________________________________________________________\n",
            "max_pooling2d_5 (MaxPooling2 (None, 4, 4, 128)         0         \n",
            "_________________________________________________________________\n",
            "dropout_2 (Dropout)          (None, 4, 4, 128)         0         \n",
            "_________________________________________________________________\n",
            "flatten_1 (Flatten)          (None, 2048)              0         \n",
            "_________________________________________________________________\n",
            "dense_2 (Dense)              (None, 128)               262272    \n",
            "_________________________________________________________________\n",
            "leaky_re_lu_7 (LeakyReLU)    (None, 128)               0         \n",
            "_________________________________________________________________\n",
            "dropout_3 (Dropout)          (None, 128)               0         \n",
            "_________________________________________________________________\n",
            "dense_3 (Dense)              (None, 10)                1290      \n",
            "=================================================================\n",
            "Total params: 356,234\n",
            "Trainable params: 356,234\n",
            "Non-trainable params: 0\n",
            "_________________________________________________________________\n"
          ],
          "name": "stdout"
        }
      ]
    },
    {
      "cell_type": "code",
      "metadata": {
        "id": "sYZSPN_IJ29e"
      },
      "source": [
        "fashion_model.compile(loss=keras.losses.categorical_crossentropy, optimizer=keras.optimizers.Adam(),metrics=['accuracy'])"
      ],
      "execution_count": 24,
      "outputs": []
    },
    {
      "cell_type": "code",
      "metadata": {
        "colab": {
          "base_uri": "https://localhost:8080/"
        },
        "id": "vb2qHQgSJ9jC",
        "outputId": "daf429bc-bdf0-4351-9af4-2e55f76dc9fe"
      },
      "source": [
        "fashion_train_dropout = fashion_model.fit(train_X, train_label, batch_size=batch_size,epochs=epochs,verbose=1,validation_data=(valid_X, valid_label))"
      ],
      "execution_count": 25,
      "outputs": [
        {
          "output_type": "stream",
          "text": [
            "Epoch 1/8\n",
            "750/750 [==============================] - 83s 110ms/step - loss: 0.8684 - accuracy: 0.6749 - val_loss: 0.3768 - val_accuracy: 0.8613\n",
            "Epoch 2/8\n",
            "750/750 [==============================] - 82s 109ms/step - loss: 0.4041 - accuracy: 0.8501 - val_loss: 0.3254 - val_accuracy: 0.8789\n",
            "Epoch 3/8\n",
            "750/750 [==============================] - 82s 109ms/step - loss: 0.3404 - accuracy: 0.8725 - val_loss: 0.2933 - val_accuracy: 0.8902\n",
            "Epoch 4/8\n",
            "750/750 [==============================] - 82s 109ms/step - loss: 0.3107 - accuracy: 0.8863 - val_loss: 0.2768 - val_accuracy: 0.8985\n",
            "Epoch 5/8\n",
            "750/750 [==============================] - 82s 109ms/step - loss: 0.2881 - accuracy: 0.8937 - val_loss: 0.2697 - val_accuracy: 0.8980\n",
            "Epoch 6/8\n",
            "750/750 [==============================] - 82s 109ms/step - loss: 0.2683 - accuracy: 0.9017 - val_loss: 0.2411 - val_accuracy: 0.9108\n",
            "Epoch 7/8\n",
            "750/750 [==============================] - 82s 109ms/step - loss: 0.2624 - accuracy: 0.9012 - val_loss: 0.2447 - val_accuracy: 0.9088\n",
            "Epoch 8/8\n",
            "750/750 [==============================] - 82s 109ms/step - loss: 0.2487 - accuracy: 0.9053 - val_loss: 0.2366 - val_accuracy: 0.9124\n"
          ],
          "name": "stdout"
        }
      ]
    },
    {
      "cell_type": "code",
      "metadata": {
        "colab": {
          "base_uri": "https://localhost:8080/"
        },
        "id": "hBvBskTIMhUs",
        "outputId": "adbb3b80-7c16-4c24-87dd-c26b364b87ed"
      },
      "source": [
        "fashion_model.save(\"fashion_model_dropout.h5py\")"
      ],
      "execution_count": 26,
      "outputs": [
        {
          "output_type": "stream",
          "text": [
            "INFO:tensorflow:Assets written to: fashion_model_dropout.h5py/assets\n"
          ],
          "name": "stdout"
        }
      ]
    },
    {
      "cell_type": "code",
      "metadata": {
        "colab": {
          "base_uri": "https://localhost:8080/"
        },
        "id": "8R9W5eRYMtJk",
        "outputId": "5946aa51-7753-4588-f77a-b8158133c234"
      },
      "source": [
        "test_eval = fashion_model.evaluate(test_X, test_Y_one_hot, verbose=1)"
      ],
      "execution_count": 27,
      "outputs": [
        {
          "output_type": "stream",
          "text": [
            "313/313 [==============================] - 5s 16ms/step - loss: 0.2457 - accuracy: 0.9071\n"
          ],
          "name": "stdout"
        }
      ]
    },
    {
      "cell_type": "code",
      "metadata": {
        "colab": {
          "base_uri": "https://localhost:8080/"
        },
        "id": "vJRlMJqlM0TE",
        "outputId": "8d7b7582-6696-469a-cdeb-d3f7e8c5e602"
      },
      "source": [
        "print('Test loss:', test_eval[0])\r\n",
        "print('Test accuracy:', test_eval[1])"
      ],
      "execution_count": 28,
      "outputs": [
        {
          "output_type": "stream",
          "text": [
            "Test loss: 0.24566565454006195\n",
            "Test accuracy: 0.9071000218391418\n"
          ],
          "name": "stdout"
        }
      ]
    },
    {
      "cell_type": "code",
      "metadata": {
        "colab": {
          "base_uri": "https://localhost:8080/",
          "height": 545
        },
        "id": "frGcCKzLM53H",
        "outputId": "9984fb40-041b-40e4-cfc0-463d98bac706"
      },
      "source": [
        "accuracy = fashion_train_dropout.history['accuracy']\r\n",
        "val_accuracy = fashion_train_dropout.history['val_accuracy']\r\n",
        "loss = fashion_train_dropout.history['loss']\r\n",
        "val_loss = fashion_train_dropout.history['val_loss']\r\n",
        "epochs = range(len(accuracy))\r\n",
        "plt.plot(epochs, accuracy, 'bo', label='Training accuracy')\r\n",
        "plt.plot(epochs, val_accuracy, 'b', label='Validation accuracy')\r\n",
        "plt.title('Training and validation accuracy')\r\n",
        "plt.legend()\r\n",
        "plt.figure()\r\n",
        "plt.plot(epochs, loss, 'bo', label='Training loss')\r\n",
        "plt.plot(epochs, val_loss, 'b', label='Validation loss')\r\n",
        "plt.title('Training and validation loss')\r\n",
        "plt.legend()\r\n",
        "plt.show()"
      ],
      "execution_count": 29,
      "outputs": [
        {
          "output_type": "display_data",
          "data": {
            "image/png": "[encoded data removed]",
            "text/plain": [
              "<Figure size 432x288 with 1 Axes>"
            ]
          },
          "metadata": {
            "tags": [],
            "needs_background": "light"
          }
        },
        {
          "output_type": "display_data",
          "data": {
            "image/png": "[encoded data removed]",
            "text/plain": [
              "<Figure size 432x288 with 1 Axes>"
            ]
          },
          "metadata": {
            "tags": [],
            "needs_background": "light"
          }
        }
      ]
    },
    {
      "cell_type": "code",
      "metadata": {
        "id": "q88urEJWNCYT"
      },
      "source": [
        "predicted_classes = fashion_model.predict(test_X)"
      ],
      "execution_count": 30,
      "outputs": []
    },
    {
      "cell_type": "code",
      "metadata": {
        "id": "ySXbHssiNHSq"
      },
      "source": [
        "predicted_classes = np.argmax(np.round(predicted_classes),axis=1)"
      ],
      "execution_count": 31,
      "outputs": []
    },
    {
      "cell_type": "code",
      "metadata": {
        "colab": {
          "base_uri": "https://localhost:8080/"
        },
        "id": "njOURAkeNKTZ",
        "outputId": "a0c9cbf9-d01e-458b-9a82-537bb5dbe36e"
      },
      "source": [
        "predicted_classes.shape, test_Y.shape"
      ],
      "execution_count": 32,
      "outputs": [
        {
          "output_type": "execute_result",
          "data": {
            "text/plain": [
              "((10000,), (10000,))"
            ]
          },
          "metadata": {
            "tags": []
          },
          "execution_count": 32
        }
      ]
    },
    {
      "cell_type": "code",
      "metadata": {
        "colab": {
          "base_uri": "https://localhost:8080/",
          "height": 314
        },
        "id": "bGzcGzyqNNs2",
        "outputId": "351b238f-5a8b-4002-90d1-1b8e7230c59f"
      },
      "source": [
        "correct = np.where(predicted_classes==test_Y)[0]\r\n",
        "print (\"Found %d correct labels\" % len(correct))\r\n",
        "for i, correct in enumerate(correct[:9]):\r\n",
        "    plt.subplot(3,3,i+1)\r\n",
        "    plt.imshow(test_X[correct].reshape(28,28), cmap='gray', interpolation='none')\r\n",
        "    plt.title(\"Predicted {}, Class {}\".format(predicted_classes[correct], test_Y[correct]))\r\n",
        "    plt.tight_layout()"
      ],
      "execution_count": 34,
      "outputs": [
        {
          "output_type": "stream",
          "text": [
            "Found 8999 correct labels\n"
          ],
          "name": "stdout"
        },
        {
          "output_type": "display_data",
          "data": {
            "image/png": "[encoded data removed]",
            "text/plain": [
              "<Figure size 432x288 with 9 Axes>"
            ]
          },
          "metadata": {
            "tags": [],
            "needs_background": "light"
          }
        }
      ]
    },
    {
      "cell_type": "code",
      "metadata": {
        "colab": {
          "base_uri": "https://localhost:8080/",
          "height": 314
        },
        "id": "CvNdtYEzNVFV",
        "outputId": "76202313-03fa-4fdd-b020-173c135b8de0"
      },
      "source": [
        "incorrect = np.where(predicted_classes!=test_Y)[0]\r\n",
        "print (\"Found %d incorrect labels\" % len(incorrect))\r\n",
        "for i, incorrect in enumerate(incorrect[:9]):\r\n",
        "    plt.subplot(3,3,i+1)\r\n",
        "    plt.imshow(test_X[incorrect].reshape(28,28), cmap='gray', interpolation='none')\r\n",
        "    plt.title(\"Predicted {}, Class {}\".format(predicted_classes[incorrect], test_Y[incorrect]))\r\n",
        "    plt.tight_layout()"
      ],
      "execution_count": 35,
      "outputs": [
        {
          "output_type": "stream",
          "text": [
            "Found 1001 incorrect labels\n"
          ],
          "name": "stdout"
        },
        {
          "output_type": "display_data",
          "data": {
            "image/png": "[encoded data removed]",
            "text/plain": [
              "<Figure size 432x288 with 9 Axes>"
            ]
          },
          "metadata": {
            "tags": [],
            "needs_background": "light"
          }
        }
      ]
    },
    {
      "cell_type": "code",
      "metadata": {
        "colab": {
          "base_uri": "https://localhost:8080/"
        },
        "id": "WDpaUUltNcJp",
        "outputId": "a48210bc-9dae-4bf7-c9cb-6eac4fcf3abd"
      },
      "source": [
        "from sklearn.metrics import classification_report\r\n",
        "target_names = [\"Class {}\".format(i) for i in range(num_classes)]\r\n",
        "print(classification_report(test_Y, predicted_classes, target_names=target_names))"
      ],
      "execution_count": 36,
      "outputs": [
        {
          "output_type": "stream",
          "text": [
            "              precision    recall  f1-score   support\n",
            "\n",
            "     Class 0       0.70      0.93      0.80      1000\n",
            "     Class 1       0.99      0.98      0.99      1000\n",
            "     Class 2       0.84      0.89      0.86      1000\n",
            "     Class 3       0.93      0.89      0.91      1000\n",
            "     Class 4       0.89      0.78      0.83      1000\n",
            "     Class 5       0.99      0.97      0.98      1000\n",
            "     Class 6       0.81      0.64      0.71      1000\n",
            "     Class 7       0.94      0.98      0.96      1000\n",
            "     Class 8       0.99      0.98      0.98      1000\n",
            "     Class 9       0.97      0.96      0.96      1000\n",
            "\n",
            "    accuracy                           0.90     10000\n",
            "   macro avg       0.91      0.90      0.90     10000\n",
            "weighted avg       0.91      0.90      0.90     10000\n",
            "\n"
          ],
          "name": "stdout"
        }
      ]
    }
  ]
}